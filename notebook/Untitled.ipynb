{
 "cells": [
  {
   "cell_type": "code",
   "execution_count": 1,
   "metadata": {
    "collapsed": true
   },
   "outputs": [],
   "source": [
    "import gdelt"
   ]
  },
  {
   "cell_type": "code",
   "execution_count": 2,
   "metadata": {
    "collapsed": true
   },
   "outputs": [],
   "source": [
    "gd = gdelt.gdelt(version=2)"
   ]
  },
  {
   "cell_type": "code",
   "execution_count": 7,
   "metadata": {
    "collapsed": false
   },
   "outputs": [
    {
     "name": "stderr",
     "output_type": "stream",
     "text": [
      "/Users/linwood/anaconda2/envs/gdelt/lib/python3.5/site-packages/gdelt/dateFuncs.py:187: UserWarning: \n",
      "\n",
      "This query will download 960 files, and likely exhaust your memory with possibly 10s of\n",
      "                    GBs of data in this single query.  Hit Ctr-C to kill this query if you do not\n",
      "                    want to continue.\n",
      "  want to continue.'''.format(len(converted.tolist())))\n",
      "/Users/linwood/anaconda2/envs/gdelt/lib/python3.5/site-packages/gdelt/parallel.py:37: UserWarning: GDELT did not return data for date time 20161029193000\n",
      "  warnings.warn(message)\n",
      "/Users/linwood/anaconda2/envs/gdelt/lib/python3.5/site-packages/gdelt/parallel.py:37: UserWarning: GDELT did not return data for date time 20161029194500\n",
      "  warnings.warn(message)\n",
      "/Users/linwood/anaconda2/envs/gdelt/lib/python3.5/site-packages/gdelt/parallel.py:37: UserWarning: GDELT did not return data for date time 20161029200000\n",
      "  warnings.warn(message)\n",
      "/Users/linwood/anaconda2/envs/gdelt/lib/python3.5/site-packages/gdelt/parallel.py:37: UserWarning: GDELT did not return data for date time 20161029201500\n",
      "  warnings.warn(message)\n",
      "/Users/linwood/anaconda2/envs/gdelt/lib/python3.5/site-packages/gdelt/parallel.py:37: UserWarning: GDELT did not return data for date time 20161029204500\n",
      "  warnings.warn(message)\n",
      "/Users/linwood/anaconda2/envs/gdelt/lib/python3.5/site-packages/gdelt/parallel.py:37: UserWarning: GDELT did not return data for date time 20161029211500\n",
      "  warnings.warn(message)\n",
      "/Users/linwood/anaconda2/envs/gdelt/lib/python3.5/site-packages/gdelt/parallel.py:37: UserWarning: GDELT did not return data for date time 20161029210000\n",
      "  warnings.warn(message)\n",
      "/Users/linwood/anaconda2/envs/gdelt/lib/python3.5/site-packages/gdelt/parallel.py:37: UserWarning: GDELT did not return data for date time 20161029203000\n",
      "  warnings.warn(message)\n",
      "/Users/linwood/anaconda2/envs/gdelt/lib/python3.5/site-packages/gdelt/parallel.py:37: UserWarning: GDELT did not return data for date time 20161029213000\n",
      "  warnings.warn(message)\n",
      "/Users/linwood/anaconda2/envs/gdelt/lib/python3.5/site-packages/gdelt/parallel.py:37: UserWarning: GDELT did not return data for date time 20161029220000\n",
      "  warnings.warn(message)\n",
      "/Users/linwood/anaconda2/envs/gdelt/lib/python3.5/site-packages/gdelt/parallel.py:37: UserWarning: GDELT did not return data for date time 20161029214500\n",
      "  warnings.warn(message)\n",
      "/Users/linwood/anaconda2/envs/gdelt/lib/python3.5/site-packages/gdelt/parallel.py:37: UserWarning: GDELT did not return data for date time 20161029221500\n",
      "  warnings.warn(message)\n",
      "/Users/linwood/anaconda2/envs/gdelt/lib/python3.5/site-packages/gdelt/parallel.py:37: UserWarning: GDELT did not return data for date time 20161029230000\n",
      "  warnings.warn(message)\n",
      "/Users/linwood/anaconda2/envs/gdelt/lib/python3.5/site-packages/gdelt/parallel.py:37: UserWarning: GDELT did not return data for date time 20161029224500\n",
      "  warnings.warn(message)\n",
      "/Users/linwood/anaconda2/envs/gdelt/lib/python3.5/site-packages/gdelt/parallel.py:37: UserWarning: GDELT did not return data for date time 20161029223000\n",
      "  warnings.warn(message)\n",
      "/Users/linwood/anaconda2/envs/gdelt/lib/python3.5/site-packages/gdelt/parallel.py:37: UserWarning: GDELT did not return data for date time 20161029231500\n",
      "  warnings.warn(message)\n",
      "/Users/linwood/anaconda2/envs/gdelt/lib/python3.5/site-packages/gdelt/parallel.py:37: UserWarning: GDELT did not return data for date time 20161029233000\n",
      "  warnings.warn(message)\n",
      "/Users/linwood/anaconda2/envs/gdelt/lib/python3.5/site-packages/gdelt/parallel.py:37: UserWarning: GDELT did not return data for date time 20161029234500\n",
      "  warnings.warn(message)\n"
     ]
    }
   ],
   "source": [
    "results = gd.Search(['2016 Oct 16','2016 Oct 29'],coverage=True)"
   ]
  },
  {
   "cell_type": "code",
   "execution_count": 8,
   "metadata": {
    "collapsed": false
   },
   "outputs": [
    {
     "name": "stdout",
     "output_type": "stream",
     "text": [
      "<class 'pandas.core.frame.DataFrame'>\n",
      "RangeIndex: 2038953 entries, 0 to 2038952\n",
      "Data columns (total 61 columns):\n",
      "GLOBALEVENTID            int64\n",
      "SQLDATE                  int64\n",
      "MonthYear                int64\n",
      "Year                     int64\n",
      "FractionDate             float64\n",
      "Actor1Code               object\n",
      "Actor1Name               object\n",
      "Actor1CountryCode        object\n",
      "Actor1KnownGroupCode     object\n",
      "Actor1EthnicCode         object\n",
      "Actor1Religion1Code      object\n",
      "Actor1Religion2Code      object\n",
      "Actor1Type1Code          object\n",
      "Actor1Type2Code          object\n",
      "Actor1Type3Code          object\n",
      "Actor2Code               object\n",
      "Actor2Name               object\n",
      "Actor2CountryCode        object\n",
      "Actor2KnownGroupCode     object\n",
      "Actor2EthnicCode         object\n",
      "Actor2Religion1Code      object\n",
      "Actor2Religion2Code      object\n",
      "Actor2Type1Code          object\n",
      "Actor2Type2Code          object\n",
      "Actor2Type3Code          object\n",
      "IsRootEvent              int64\n",
      "EventCode                object\n",
      "EventBaseCode            object\n",
      "EventRootCode            object\n",
      "QuadClass                int64\n",
      "GoldsteinScale           float64\n",
      "NumMentions              int64\n",
      "NumSources               int64\n",
      "NumArticles              int64\n",
      "AvgTone                  float64\n",
      "Actor1Geo_Type           int64\n",
      "Actor1Geo_FullName       object\n",
      "Actor1Geo_CountryCode    object\n",
      "Actor1Geo_ADM1Code       object\n",
      "Actor1Geo_ADM2Code       object\n",
      "Actor1Geo_Lat            float64\n",
      "Actor1Geo_Long           float64\n",
      "Actor1Geo_FeatureID      object\n",
      "Actor2Geo_Type           int64\n",
      "Actor2Geo_FullName       object\n",
      "Actor2Geo_CountryCode    object\n",
      "Actor2Geo_ADM1Code       object\n",
      "Actor2Geo_ADM2Code       object\n",
      "Actor2Geo_Lat            float64\n",
      "Actor2Geo_Long           float64\n",
      "Actor2Geo_FeatureID      object\n",
      "ActionGeo_Type           int64\n",
      "ActionGeo_FullName       object\n",
      "ActionGeo_CountryCode    object\n",
      "ActionGeo_ADM1Code       object\n",
      "ActionGeo_ADM2Code       object\n",
      "ActionGeo_Lat            float64\n",
      "ActionGeo_Long           float64\n",
      "ActionGeo_FeatureID      object\n",
      "DATEADDED                int64\n",
      "SOURCEURL                object\n",
      "dtypes: float64(9), int64(13), object(39)\n",
      "memory usage: 948.9+ MB\n"
     ]
    }
   ],
   "source": [
    "results.info()"
   ]
  },
  {
   "cell_type": "code",
   "execution_count": null,
   "metadata": {
    "collapsed": true
   },
   "outputs": [],
   "source": []
  }
 ],
 "metadata": {
  "anaconda-cloud": {},
  "kernelspec": {
   "display_name": "Python [conda env:gdelt]",
   "language": "python",
   "name": "conda-env-gdelt-py"
  },
  "language_info": {
   "codemirror_mode": {
    "name": "ipython",
    "version": 3
   },
   "file_extension": ".py",
   "mimetype": "text/x-python",
   "name": "python",
   "nbconvert_exporter": "python",
   "pygments_lexer": "ipython3",
   "version": "3.5.2"
  }
 },
 "nbformat": 4,
 "nbformat_minor": 0
}
